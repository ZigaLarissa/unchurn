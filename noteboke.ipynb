{
 "cells": [
  {
   "cell_type": "markdown",
   "metadata": {},
   "source": [
    "# Customer Churn Prediction Model\n",
    "\n",
    "\n",
    "This project aims to leverage historical customer data and machine learning algorithms to build an accurate churn prediction model.  \n",
    "By identifying customers likely to churn, companies can take targeted actions to address their concerns,   \n",
    "offer tailored incentives, or improve their overall experience,   \n",
    "ultimately reducing customer attrition and its associated costs.\n",
    "\n",
    "## Data\n",
    "\n",
    "This dataset contains customer information and attributes relevant to assessing customer churn, which refers to the likelihood of customers leaving a service or company. The dataset's primary objective is to provide insights into customer behavior and help determine whether a customer will churn or not. Each row in the dataset represents a customer with specific attributes, and the \"Churn\" column indicates whether the customer has churned (1) or not (0).\n",
    "\n",
    "Dataset Attributes:\n",
    "- **CustomerId**: The unique identifier for each customer.\n",
    "- **Surname**: The last name of the customer.\n",
    "- **CreditScore**: The credit score of the customer.\n",
    "- **Geography**: The geographical location of the customer.\n",
    "- **Gender**: The gender of the customer.\n",
    "- **Age**: The age of the customer.\n",
    "- **Tenure**: The number of years the customer has been with the company.\n",
    "- **Balance**: The account balance of the customer.\n",
    "- **NumOfProducts**: The number of products the customer has with the company.\n",
    "- **IsActiveMember**: Whether the customer is an active member (1) or not (0).\n",
    "- **Churn**: Whether the customer has churned (1) or not (0).\n",
    "\n",
    "## Machine Learning Task:\n",
    "This dataset is suitable for a supervised binary classification task, where machine learning models   \n",
    "can be trained to predict customer churn based on the provided attributes.   \n",
    "The models aim to classify customers as churned (1) or not churned (0).\n",
    "\n",
    "\n",
    "## Exploratory Data Analysis (EDA)\n",
    "EDA is a crucial aspect of data science that helps in understanding the underlying structure of the data. It involves analyzing and summarizing data visually and statistically to uncover patterns or relationships. The main goals of EDA include:\n",
    "\n",
    "## Gaining a deeper understanding of the data\n",
    "- Identifying data quality issues\n",
    "- Developing initial insights and hypotheses\n",
    "- Selecting features for modeling or further analysis"
   ]
  },
  {
   "cell_type": "code",
   "execution_count": null,
   "metadata": {},
   "outputs": [],
   "source": [
    "# import modules\n",
    "import pandas as pd\n",
    "import tensorflow as tf\n",
    "import numpy as np\n",
    "import matplotlib.pyplot as plt\n",
    "import seaborn as sns\n",
    "from sklearn.preprocessing import StandardScaler\n",
    "from sklearn.model_selection import train_test_split"
   ]
  }
 ],
 "metadata": {
  "kernelspec": {
   "display_name": ".venv",
   "language": "python",
   "name": "python3"
  },
  "language_info": {
   "name": "python",
   "version": "3.11.0"
  }
 },
 "nbformat": 4,
 "nbformat_minor": 2
}
